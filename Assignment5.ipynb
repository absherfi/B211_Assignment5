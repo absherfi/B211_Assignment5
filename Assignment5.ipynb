{
 "cells": [
  {
   "cell_type": "code",
   "execution_count": 79,
   "metadata": {},
   "outputs": [
    {
     "name": "stdout",
     "output_type": "stream",
     "text": [
      "  League       Season           Stage            Player Team  GP     MIN  FGM  \\\n",
      "0    NBA  1999 - 2000  Regular_Season  Shaquille O'Neal  LAL  79  3163.0  956   \n",
      "1    NBA  1999 - 2000  Regular_Season      Vince Carter  TOR  82  3126.0  788   \n",
      "2    NBA  1999 - 2000  Regular_Season       Karl Malone  UTA  82  2947.0  752   \n",
      "3    NBA  1999 - 2000  Regular_Season     Allen Iverson  PHI  70  2853.0  729   \n",
      "4    NBA  1999 - 2000  Regular_Season       Gary Payton  SEA  82  3425.0  747   \n",
      "\n",
      "    FGA  3PM  ...    birth_date  height  height_cm  weight  weight_kg  \\\n",
      "0  1665    0  ...   Mar 6, 1972     7-1      216.0   325.0      147.0   \n",
      "1  1696   95  ...  Jan 26, 1977     6-6      198.0   220.0      100.0   \n",
      "2  1476    2  ...  Jul 24, 1963     6-9      206.0   265.0      120.0   \n",
      "3  1733   89  ...   Jun 7, 1975     6-0      183.0   165.0       75.0   \n",
      "4  1666  177  ...  Jul 23, 1968     6-4      193.0   180.0       82.0   \n",
      "\n",
      "     nationality                  high_school  draft_round  draft_pick  \\\n",
      "0  United States  Robert G. Cole High School           1.0         1.0   \n",
      "1  United States         Mainland High School          1.0         5.0   \n",
      "2  United States      Summerfield High School          1.0        13.0   \n",
      "3  United States          Bethel High School           1.0         1.0   \n",
      "4  United States          Skyline High School          1.0         2.0   \n",
      "\n",
      "              draft_team  \n",
      "0          Orlando Magic  \n",
      "1  Golden State Warriors  \n",
      "2              Utah Jazz  \n",
      "3    Philadelphia Sixers  \n",
      "4    Seattle SuperSonics  \n",
      "\n",
      "[5 rows x 34 columns]\n"
     ]
    }
   ],
   "source": [
    "import pandas as pd\n",
    "import os.path as path\n",
    "\n",
    "# Load the data into a pandas dataframe\n",
    "bball_path = path.join(r\"C:\\\\Users\\\\abbis\\\\Downloads\\\\archive (5)\", 'players_stats_by_season_full_details.csv')\n",
    "bball_data = pd.read_csv(bball_path)\n",
    "\n",
    "print(bball_data.head())\n"
   ]
  },
  {
   "cell_type": "code",
   "execution_count": 80,
   "metadata": {},
   "outputs": [],
   "source": [
    "from scipy import constants\n",
    "from scipy import integrate\n",
    "from scipy import interpolate\n",
    "from scipy import linalg\n",
    "from scipy import stats\n",
    "import numpy as np"
   ]
  },
  {
   "cell_type": "code",
   "execution_count": 81,
   "metadata": {},
   "outputs": [
    {
     "name": "stdout",
     "output_type": "stream",
     "text": [
      "  League       Season           Stage            Player Team  GP     MIN  FGM  \\\n",
      "0    NBA  1999 - 2000  Regular_Season  Shaquille O'Neal  LAL  79  3163.0  956   \n",
      "1    NBA  1999 - 2000  Regular_Season      Vince Carter  TOR  82  3126.0  788   \n",
      "2    NBA  1999 - 2000  Regular_Season       Karl Malone  UTA  82  2947.0  752   \n",
      "3    NBA  1999 - 2000  Regular_Season     Allen Iverson  PHI  70  2853.0  729   \n",
      "4    NBA  1999 - 2000  Regular_Season       Gary Payton  SEA  82  3425.0  747   \n",
      "\n",
      "    FGA  3PM  ...    birth_date  height  height_cm  weight  weight_kg  \\\n",
      "0  1665    0  ...   Mar 6, 1972     7-1      216.0   325.0      147.0   \n",
      "1  1696   95  ...  Jan 26, 1977     6-6      198.0   220.0      100.0   \n",
      "2  1476    2  ...  Jul 24, 1963     6-9      206.0   265.0      120.0   \n",
      "3  1733   89  ...   Jun 7, 1975     6-0      183.0   165.0       75.0   \n",
      "4  1666  177  ...  Jul 23, 1968     6-4      193.0   180.0       82.0   \n",
      "\n",
      "     nationality                  high_school  draft_round  draft_pick  \\\n",
      "0  United States  Robert G. Cole High School           1.0         1.0   \n",
      "1  United States         Mainland High School          1.0         5.0   \n",
      "2  United States      Summerfield High School          1.0        13.0   \n",
      "3  United States          Bethel High School           1.0         1.0   \n",
      "4  United States          Skyline High School          1.0         2.0   \n",
      "\n",
      "              draft_team  \n",
      "0          Orlando Magic  \n",
      "1  Golden State Warriors  \n",
      "2              Utah Jazz  \n",
      "3    Philadelphia Sixers  \n",
      "4    Seattle SuperSonics  \n",
      "\n",
      "[5 rows x 34 columns]\n"
     ]
    }
   ],
   "source": [
    "# Create a DataFrame with only the Regular Season data\n",
    "regular_season_data = bball_data[bball_data['Stage'] == 'Regular_Season']\n",
    "print(regular_season_data.head())"
   ]
  },
  {
   "cell_type": "code",
   "execution_count": 82,
   "metadata": {},
   "outputs": [
    {
     "name": "stdout",
     "output_type": "stream",
     "text": [
      "     League       Season           Stage         Player Team  GP     MIN  FGM  \\\n",
      "1681    NBA  2002 - 2003  Regular_Season  Allen Iverson  PHI  82  3485.0  804   \n",
      "\n",
      "       FGA  3PM  ...   birth_date  height  height_cm  weight  weight_kg  \\\n",
      "1681  1940   84  ...  Jun 7, 1975     6-0      183.0   165.0       75.0   \n",
      "\n",
      "        nationality          high_school  draft_round  draft_pick  \\\n",
      "1681  United States  Bethel High School           1.0         1.0   \n",
      "\n",
      "               draft_team  \n",
      "1681  Philadelphia Sixers  \n",
      "\n",
      "[1 rows x 34 columns]\n"
     ]
    }
   ],
   "source": [
    "# Find the player with the most minutes in the regular season\n",
    "most_minutes = regular_season_data['MIN'].max()\n",
    "player_most_minutes = regular_season_data[regular_season_data['MIN'] == most_minutes]\n",
    "print(player_most_minutes)"
   ]
  },
  {
   "cell_type": "code",
   "execution_count": 83,
   "metadata": {},
   "outputs": [
    {
     "name": "stdout",
     "output_type": "stream",
     "text": [
      "           Season  3P_Accuracy_Percent\n",
      "3     1999 - 2000            34.099617\n",
      "506   2000 - 2001            32.026144\n",
      "1025  2001 - 2002            29.104478\n",
      "1681  2002 - 2003            27.722772\n",
      "4108  2004 - 2005            30.769231\n",
      "5324  2005 - 2006            32.286996\n",
      "6553  2006 - 2007            31.472081\n",
      "7942  2007 - 2008            34.545455\n"
     ]
    },
    {
     "name": "stderr",
     "output_type": "stream",
     "text": [
      "C:\\Users\\abbis\\AppData\\Local\\Temp\\ipykernel_17748\\3445938513.py:2: SettingWithCopyWarning: \n",
      "A value is trying to be set on a copy of a slice from a DataFrame.\n",
      "Try using .loc[row_indexer,col_indexer] = value instead\n",
      "\n",
      "See the caveats in the documentation: https://pandas.pydata.org/pandas-docs/stable/user_guide/indexing.html#returning-a-view-versus-a-copy\n",
      "  regular_season_data['3P_Accuracy_Percent'] = (regular_season_data['3PM'] / regular_season_data['3PA'])*100\n"
     ]
    }
   ],
   "source": [
    "# Calculate 3-point accuracy percentage for each player for each regular season\n",
    "regular_season_data['3P_Accuracy_Percent'] = (regular_season_data['3PM'] / regular_season_data['3PA'])*100\n",
    "\n",
    "# Allen Iverson's 3-point accuracy for each season\n",
    "AI_3p_per_season = regular_season_data.loc[regular_season_data['Player'] == 'Allen Iverson', ['Season', '3P_Accuracy_Percent']]\n",
    "print(AI_3p_per_season)"
   ]
  },
  {
   "cell_type": "code",
   "execution_count": 97,
   "metadata": {},
   "outputs": [
    {
     "name": "stdout",
     "output_type": "stream",
     "text": [
      "Slope: 0.15887762217756501\n",
      "Intercept: -286.728530648299\n",
      "R-squared: 0.04042003827630641\n",
      "P-value: 0.6330709645325131\n",
      "Standard Error: 0.3160307422223928\n"
     ]
    },
    {
     "data": {
      "image/png": "[encoded data removed]",
      "text/plain": [
       "<Figure size 640x480 with 1 Axes>"
      ]
     },
     "metadata": {},
     "output_type": "display_data"
    }
   ],
   "source": [
    "# Plot Allen Iverson's 3-point accuracy percentage per season\n",
    "import matplotlib.pyplot as plt\n",
    "\n",
    "# Define x and y values\n",
    "# Extract the starting year from the 'Season' string and convert it to numeric values\n",
    "x = pd.to_numeric(AI_3p_per_season['Season'].str.split(' - ').str[0])\n",
    "y = AI_3p_per_season['3P_Accuracy_Percent']\n",
    "\n",
    "# Perform linear regression\n",
    "slope, intercept, r_value, p_value, std_err = stats.linregress(x, y)\n",
    "print('Slope:', slope)\n",
    "print('Intercept:', intercept)\n",
    "print('R-squared:', r_value**2)\n",
    "print('P-value:', p_value)\n",
    "print('Standard Error:', std_err)\n",
    "\n",
    "# Plot the data and the linear regression line\n",
    "plt.scatter(x, y)\n",
    "plt.plot(x, slope*x + intercept, color='red')\n",
    "plt.xlabel('Season')\n",
    "plt.ylabel('3-Point Accuracy %')\n",
    "plt.title('Allen Iverson 3-Point Accuracy % per Season')\n",
    "plt.show()\n"
   ]
  },
  {
   "cell_type": "code",
   "execution_count": 98,
   "metadata": {},
   "outputs": [
    {
     "name": "stdout",
     "output_type": "stream",
     "text": [
      "Average Integrated 3-Point Accuracy: 31.50%\n",
      "Actual Average 3-Point Accuracy: 31.50%\n"
     ]
    }
   ],
   "source": [
    "#Calculate the average integrated 3-point accuracy\n",
    "# Define the function for the linear regression line using the slope and intercept above\n",
    "def f(x):\n",
    "    return slope*x + intercept\n",
    "    \n",
    "# Calculate the average integrated 3-point accuracy\n",
    "average_integrated_accuracy = integrate.quad(f, x.min(), x.max())[0] / (x.max() - x.min())\n",
    "\n",
    "# Calculate the actual average three-point accuracy\n",
    "actual_average_accuracy = AI_3p_per_season['3P_Accuracy_Percent'].mean()\n",
    "\n",
    "print(f\"Average Integrated 3-Point Accuracy: {average_integrated_accuracy:.2f}%\")\n",
    "print(f\"Actual Average 3-Point Accuracy: {actual_average_accuracy:.2f}%\")"
   ]
  },
  {
   "cell_type": "code",
   "execution_count": 100,
   "metadata": {},
   "outputs": [
    {
     "name": "stdout",
     "output_type": "stream",
     "text": [
      "        Season  3P_Accuracy_Percent\n",
      "0  1999 - 2000            34.099617\n",
      "1  2000 - 2001            32.026144\n",
      "2  2001 - 2002            29.104478\n",
      "3  2002 - 2003            27.722772\n",
      "8  2002 - 2003            29.246002\n",
      "4  2004 - 2005            30.769231\n",
      "5  2005 - 2006            32.286996\n",
      "6  2006 - 2007            31.472081\n",
      "7  2007 - 2008            34.545455\n",
      "9  2015 - 2016            34.545455\n"
     ]
    }
   ],
   "source": [
    "# Add the missing seasons with NaN values\n",
    "missing_seasons = pd.DataFrame({\n",
    "    'Season': ['2002 - 2003', '2015 - 2016'],\n",
    "    '3P_Accuracy_Percent': [np.nan, np.nan]\n",
    "})\n",
    "\n",
    "# Append the missing seasons to the existing data using pd.concat\n",
    "AI_3p_per_season_with_missing = pd.concat([AI_3p_per_season, missing_seasons], ignore_index=True, sort=False)\n",
    "\n",
    "# Sort by season\n",
    "AI_3p_per_season_with_missing = AI_3p_per_season_with_missing.sort_values(by='Season')\n",
    "\n",
    "# Interpolate the missing values\n",
    "AI_3p_per_season_with_missing['3P_Accuracy_Percent'] = AI_3p_per_season_with_missing['3P_Accuracy_Percent'].interpolate()\n",
    "\n",
    "print(AI_3p_per_season_with_missing)"
   ]
  },
  {
   "cell_type": "code",
   "execution_count": 101,
   "metadata": {},
   "outputs": [
    {
     "name": "stdout",
     "output_type": "stream",
     "text": [
      "FGM - Mean: 113.20054125192311, Variance: 10032.833568328224, Skew: 2.43964784706046, Kurtosis: 8.696934270994289\n",
      "FGA - Mean: 245.09494151884186, Variance: 45009.77626065056, Skew: 2.4912945957988826, Kurtosis: 9.095135435057541\n",
      "Relational t-test result: TtestResult(statistic=-266.1203748830242, pvalue=0.0, df=53948)\n",
      "FGM t-test result: TtestResult(statistic=262.49945067698144, pvalue=0.0, df=53948)\n",
      "FGA t-test result: TtestResult(statistic=268.332094401593, pvalue=0.0, df=53948)\n"
     ]
    }
   ],
   "source": [
    "# Calculate statistical measures for FGM and FGA\n",
    "fgm_mean = bball_data['FGM'].mean()\n",
    "fgm_variance = bball_data['FGM'].var()\n",
    "fgm_skew = stats.skew(bball_data['FGM'])\n",
    "fgm_kurtosis = stats.kurtosis(bball_data['FGM'])\n",
    "\n",
    "fga_mean = bball_data['FGA'].mean()\n",
    "fga_variance = bball_data['FGA'].var()\n",
    "fga_skew = stats.skew(bball_data['FGA'])\n",
    "fga_kurtosis = stats.kurtosis(bball_data['FGA'])\n",
    "\n",
    "print(f\"FGM - Mean: {fgm_mean}, Variance: {fgm_variance}, Skew: {fgm_skew}, Kurtosis: {fgm_kurtosis}\")\n",
    "print(f\"FGA - Mean: {fga_mean}, Variance: {fga_variance}, Skew: {fga_skew}, Kurtosis: {fga_kurtosis}\")\n",
    "\n",
    "# Perform a relational t-test on FGM and FGA\n",
    "relational_ttest_result = stats.ttest_rel(bball_data['FGM'], bball_data['FGA'])\n",
    "print(f\"Relational t-test result: {relational_ttest_result}\")\n",
    "\n",
    "# Perform individual t-tests on FGM and FGA\n",
    "fgm_ttest_result = stats.ttest_1samp(bball_data['FGM'], 0)\n",
    "fga_ttest_result = stats.ttest_1samp(bball_data['FGA'], 0)\n",
    "\n",
    "print(f\"FGM t-test result: {fgm_ttest_result}\")\n",
    "print(f\"FGA t-test result: {fga_ttest_result}\")"
   ]
  }
 ],
 "metadata": {
  "kernelspec": {
   "display_name": "base",
   "language": "python",
   "name": "python3"
  },
  "language_info": {
   "codemirror_mode": {
    "name": "ipython",
    "version": 3
   },
   "file_extension": ".py",
   "mimetype": "text/x-python",
   "name": "python",
   "nbconvert_exporter": "python",
   "pygments_lexer": "ipython3",
   "version": "3.11.5"
  }
 },
 "nbformat": 4,
 "nbformat_minor": 2
}
